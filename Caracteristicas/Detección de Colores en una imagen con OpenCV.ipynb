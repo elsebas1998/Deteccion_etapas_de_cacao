{
 "cells": [
  {
   "cell_type": "markdown",
   "id": "warming-animation",
   "metadata": {},
   "source": [
    "# DETECCIÓN DE COLORES EN UNA IMAGEN CON OPENCV"
   ]
  },
  {
   "cell_type": "markdown",
   "id": "fbaa7fdb",
   "metadata": {},
   "source": [
    "<img src=\"17.PNG\">"
   ]
  },
  {
   "cell_type": "markdown",
   "id": "european-manitoba",
   "metadata": {},
   "source": [
    "##### *  Espectro Visible\n",
    "<img src=\"15.PNG\">"
   ]
  },
  {
   "cell_type": "code",
   "execution_count": 4,
   "id": "f7bd9130",
   "metadata": {},
   "outputs": [],
   "source": [
    "import cv2\n",
    "import numpy as np\n",
    "img=cv2.imread('12.jpg')\n",
    "\n",
    "cv2.imshow('Imagen de entrada',img)\n",
    "\n",
    "cv2.waitKey(0)     \n",
    "cv2.destroyAllWindows()"
   ]
  },
  {
   "cell_type": "code",
   "execution_count": 3,
   "id": "4c62324e",
   "metadata": {},
   "outputs": [],
   "source": [
    "import cv2\n",
    "import numpy as np\n",
    "img=cv2.imread('12.jpg')\n",
    "imghsv = cv2.cvtColor(img,cv2.COLOR_BGR2HSV)\n",
    "\n",
    "\n",
    "rojobajo = np.array([150,50,50],np.uint8)\n",
    "rojoalto = np.array([180,255,255],np.uint8)\n",
    "mascara1 = cv2.inRange(imghsv,rojobajo, rojoalto)\n",
    "\n",
    "\n",
    "contornorojo,_ = cv2.findContours(mascara1,cv2.RETR_EXTERNAL,cv2.CHAIN_APPROX_SIMPLE)\n",
    "cont = 0\n",
    "\n",
    "for c in contornorojo:\n",
    "    area = cv2.contourArea(c)\n",
    "    if (area > 1000):\n",
    "        cont = cont + 1\n",
    "        x,y,w,h = cv2.boundingRect(c)\n",
    "        cv2.rectangle(img,(x,y),(x+w,y+h),(0,0,255),2)\n",
    "        cv2.putText(img,str(cont),(x,y-5),cv2.FONT_HERSHEY_SIMPLEX,0.5,(0,0,255),2)\n",
    "\n",
    "\n",
    "cv2.imshow('Imagen de entrada',img)\n",
    "cv2.imshow('Imagen HSV',imghsv)\n",
    "cv2.imshow('inRangea Rojo',mascara1)\n",
    "\n",
    "\n",
    "cv2.waitKey(0)     \n",
    "cv2.destroyAllWindows()  "
   ]
  },
  {
   "cell_type": "code",
   "execution_count": null,
   "id": "024ec83e",
   "metadata": {},
   "outputs": [],
   "source": []
  }
 ],
 "metadata": {
  "kernelspec": {
   "display_name": "Python 3 (ipykernel)",
   "language": "python",
   "name": "python3"
  },
  "language_info": {
   "codemirror_mode": {
    "name": "ipython",
    "version": 3
   },
   "file_extension": ".py",
   "mimetype": "text/x-python",
   "name": "python",
   "nbconvert_exporter": "python",
   "pygments_lexer": "ipython3",
   "version": "3.10.11"
  }
 },
 "nbformat": 4,
 "nbformat_minor": 5
}
